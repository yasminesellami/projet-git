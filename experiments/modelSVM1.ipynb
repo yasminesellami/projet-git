{
 "cells": [
  {
   "cell_type": "code",
   "execution_count": 1,
   "metadata": {},
   "outputs": [],
   "source": [
    "from sklearn.metrics import classification_report\n",
    "from sklearn.model_selection import train_test_split\n",
    "import pickle\n",
    "from sklearn.ensemble import RandomForestClassifier\n",
    "from sklearn.model_selection import train_test_split\n",
    "from sklearn.metrics import accuracy_score, classification_report\n",
    "import pandas as pd\n",
    "import matplotlib.pyplot as plt\n",
    "import seaborn as sns"
   ]
  },
  {
   "cell_type": "code",
   "execution_count": 2,
   "metadata": {},
   "outputs": [
    {
     "name": "stdout",
     "output_type": "stream",
     "text": [
      "(47276, 23)\n"
     ]
    },
    {
     "data": {
      "text/html": [
       "<div>\n",
       "<style scoped>\n",
       "    .dataframe tbody tr th:only-of-type {\n",
       "        vertical-align: middle;\n",
       "    }\n",
       "\n",
       "    .dataframe tbody tr th {\n",
       "        vertical-align: top;\n",
       "    }\n",
       "\n",
       "    .dataframe thead th {\n",
       "        text-align: right;\n",
       "    }\n",
       "</style>\n",
       "<table border=\"1\" class=\"dataframe\">\n",
       "  <thead>\n",
       "    <tr style=\"text-align: right;\">\n",
       "      <th></th>\n",
       "      <th>Unnamed: 0</th>\n",
       "      <th>Diabetes_012</th>\n",
       "      <th>HighBP</th>\n",
       "      <th>HighChol</th>\n",
       "      <th>CholCheck</th>\n",
       "      <th>BMI</th>\n",
       "      <th>Smoker</th>\n",
       "      <th>Stroke</th>\n",
       "      <th>HeartDiseaseorAttack</th>\n",
       "      <th>PhysActivity</th>\n",
       "      <th>...</th>\n",
       "      <th>AnyHealthcare</th>\n",
       "      <th>NoDocbcCost</th>\n",
       "      <th>GenHlth</th>\n",
       "      <th>MentHlth</th>\n",
       "      <th>PhysHlth</th>\n",
       "      <th>DiffWalk</th>\n",
       "      <th>Sex</th>\n",
       "      <th>Age</th>\n",
       "      <th>Education</th>\n",
       "      <th>Income</th>\n",
       "    </tr>\n",
       "  </thead>\n",
       "  <tbody>\n",
       "    <tr>\n",
       "      <th>count</th>\n",
       "      <td>47276.000000</td>\n",
       "      <td>47276.000000</td>\n",
       "      <td>47276.000000</td>\n",
       "      <td>47276.000000</td>\n",
       "      <td>47276.000000</td>\n",
       "      <td>47276.000000</td>\n",
       "      <td>47276.000000</td>\n",
       "      <td>47276.000000</td>\n",
       "      <td>47276.000000</td>\n",
       "      <td>47276.000000</td>\n",
       "      <td>...</td>\n",
       "      <td>47276.000000</td>\n",
       "      <td>47276.000000</td>\n",
       "      <td>47276.000000</td>\n",
       "      <td>47276.000000</td>\n",
       "      <td>47276.000000</td>\n",
       "      <td>47276.000000</td>\n",
       "      <td>47276.000000</td>\n",
       "      <td>47276.000000</td>\n",
       "      <td>47276.000000</td>\n",
       "      <td>47276.000000</td>\n",
       "    </tr>\n",
       "    <tr>\n",
       "      <th>mean</th>\n",
       "      <td>118671.500613</td>\n",
       "      <td>0.305800</td>\n",
       "      <td>0.419325</td>\n",
       "      <td>0.401980</td>\n",
       "      <td>0.964337</td>\n",
       "      <td>28.939081</td>\n",
       "      <td>0.408114</td>\n",
       "      <td>0.038265</td>\n",
       "      <td>0.085752</td>\n",
       "      <td>0.781284</td>\n",
       "      <td>...</td>\n",
       "      <td>0.962899</td>\n",
       "      <td>0.062696</td>\n",
       "      <td>2.473560</td>\n",
       "      <td>3.929245</td>\n",
       "      <td>3.761126</td>\n",
       "      <td>0.152720</td>\n",
       "      <td>0.476986</td>\n",
       "      <td>7.887829</td>\n",
       "      <td>5.142482</td>\n",
       "      <td>6.931191</td>\n",
       "    </tr>\n",
       "    <tr>\n",
       "      <th>std</th>\n",
       "      <td>68125.928125</td>\n",
       "      <td>0.703757</td>\n",
       "      <td>0.493454</td>\n",
       "      <td>0.490303</td>\n",
       "      <td>0.185450</td>\n",
       "      <td>6.562661</td>\n",
       "      <td>0.491490</td>\n",
       "      <td>0.191837</td>\n",
       "      <td>0.280000</td>\n",
       "      <td>0.413380</td>\n",
       "      <td>...</td>\n",
       "      <td>0.189012</td>\n",
       "      <td>0.242417</td>\n",
       "      <td>1.027017</td>\n",
       "      <td>7.861948</td>\n",
       "      <td>8.239428</td>\n",
       "      <td>0.359721</td>\n",
       "      <td>0.499475</td>\n",
       "      <td>3.227736</td>\n",
       "      <td>0.945945</td>\n",
       "      <td>2.376979</td>\n",
       "    </tr>\n",
       "    <tr>\n",
       "      <th>min</th>\n",
       "      <td>4.000000</td>\n",
       "      <td>0.000000</td>\n",
       "      <td>0.000000</td>\n",
       "      <td>0.000000</td>\n",
       "      <td>0.000000</td>\n",
       "      <td>12.000000</td>\n",
       "      <td>0.000000</td>\n",
       "      <td>0.000000</td>\n",
       "      <td>0.000000</td>\n",
       "      <td>0.000000</td>\n",
       "      <td>...</td>\n",
       "      <td>0.000000</td>\n",
       "      <td>0.000000</td>\n",
       "      <td>1.000000</td>\n",
       "      <td>0.000000</td>\n",
       "      <td>0.000000</td>\n",
       "      <td>0.000000</td>\n",
       "      <td>0.000000</td>\n",
       "      <td>1.000000</td>\n",
       "      <td>1.000000</td>\n",
       "      <td>1.000000</td>\n",
       "    </tr>\n",
       "    <tr>\n",
       "      <th>25%</th>\n",
       "      <td>59910.750000</td>\n",
       "      <td>0.000000</td>\n",
       "      <td>0.000000</td>\n",
       "      <td>0.000000</td>\n",
       "      <td>1.000000</td>\n",
       "      <td>24.000000</td>\n",
       "      <td>0.000000</td>\n",
       "      <td>0.000000</td>\n",
       "      <td>0.000000</td>\n",
       "      <td>1.000000</td>\n",
       "      <td>...</td>\n",
       "      <td>1.000000</td>\n",
       "      <td>0.000000</td>\n",
       "      <td>2.000000</td>\n",
       "      <td>0.000000</td>\n",
       "      <td>0.000000</td>\n",
       "      <td>0.000000</td>\n",
       "      <td>0.000000</td>\n",
       "      <td>5.000000</td>\n",
       "      <td>4.000000</td>\n",
       "      <td>5.000000</td>\n",
       "    </tr>\n",
       "    <tr>\n",
       "      <th>50%</th>\n",
       "      <td>118660.500000</td>\n",
       "      <td>0.000000</td>\n",
       "      <td>0.000000</td>\n",
       "      <td>0.000000</td>\n",
       "      <td>1.000000</td>\n",
       "      <td>28.000000</td>\n",
       "      <td>0.000000</td>\n",
       "      <td>0.000000</td>\n",
       "      <td>0.000000</td>\n",
       "      <td>1.000000</td>\n",
       "      <td>...</td>\n",
       "      <td>1.000000</td>\n",
       "      <td>0.000000</td>\n",
       "      <td>2.000000</td>\n",
       "      <td>0.000000</td>\n",
       "      <td>0.000000</td>\n",
       "      <td>0.000000</td>\n",
       "      <td>0.000000</td>\n",
       "      <td>8.000000</td>\n",
       "      <td>5.000000</td>\n",
       "      <td>7.000000</td>\n",
       "    </tr>\n",
       "    <tr>\n",
       "      <th>75%</th>\n",
       "      <td>177744.250000</td>\n",
       "      <td>0.000000</td>\n",
       "      <td>1.000000</td>\n",
       "      <td>1.000000</td>\n",
       "      <td>1.000000</td>\n",
       "      <td>32.000000</td>\n",
       "      <td>1.000000</td>\n",
       "      <td>0.000000</td>\n",
       "      <td>0.000000</td>\n",
       "      <td>1.000000</td>\n",
       "      <td>...</td>\n",
       "      <td>1.000000</td>\n",
       "      <td>0.000000</td>\n",
       "      <td>3.000000</td>\n",
       "      <td>4.000000</td>\n",
       "      <td>2.000000</td>\n",
       "      <td>0.000000</td>\n",
       "      <td>1.000000</td>\n",
       "      <td>10.000000</td>\n",
       "      <td>6.000000</td>\n",
       "      <td>9.000000</td>\n",
       "    </tr>\n",
       "    <tr>\n",
       "      <th>max</th>\n",
       "      <td>236377.000000</td>\n",
       "      <td>2.000000</td>\n",
       "      <td>1.000000</td>\n",
       "      <td>1.000000</td>\n",
       "      <td>1.000000</td>\n",
       "      <td>95.000000</td>\n",
       "      <td>1.000000</td>\n",
       "      <td>1.000000</td>\n",
       "      <td>1.000000</td>\n",
       "      <td>1.000000</td>\n",
       "      <td>...</td>\n",
       "      <td>1.000000</td>\n",
       "      <td>1.000000</td>\n",
       "      <td>5.000000</td>\n",
       "      <td>30.000000</td>\n",
       "      <td>30.000000</td>\n",
       "      <td>1.000000</td>\n",
       "      <td>1.000000</td>\n",
       "      <td>13.000000</td>\n",
       "      <td>6.000000</td>\n",
       "      <td>11.000000</td>\n",
       "    </tr>\n",
       "  </tbody>\n",
       "</table>\n",
       "<p>8 rows × 23 columns</p>\n",
       "</div>"
      ],
      "text/plain": [
       "          Unnamed: 0  Diabetes_012        HighBP      HighChol     CholCheck  \\\n",
       "count   47276.000000  47276.000000  47276.000000  47276.000000  47276.000000   \n",
       "mean   118671.500613      0.305800      0.419325      0.401980      0.964337   \n",
       "std     68125.928125      0.703757      0.493454      0.490303      0.185450   \n",
       "min         4.000000      0.000000      0.000000      0.000000      0.000000   \n",
       "25%     59910.750000      0.000000      0.000000      0.000000      1.000000   \n",
       "50%    118660.500000      0.000000      0.000000      0.000000      1.000000   \n",
       "75%    177744.250000      0.000000      1.000000      1.000000      1.000000   \n",
       "max    236377.000000      2.000000      1.000000      1.000000      1.000000   \n",
       "\n",
       "                BMI        Smoker        Stroke  HeartDiseaseorAttack  \\\n",
       "count  47276.000000  47276.000000  47276.000000          47276.000000   \n",
       "mean      28.939081      0.408114      0.038265              0.085752   \n",
       "std        6.562661      0.491490      0.191837              0.280000   \n",
       "min       12.000000      0.000000      0.000000              0.000000   \n",
       "25%       24.000000      0.000000      0.000000              0.000000   \n",
       "50%       28.000000      0.000000      0.000000              0.000000   \n",
       "75%       32.000000      1.000000      0.000000              0.000000   \n",
       "max       95.000000      1.000000      1.000000              1.000000   \n",
       "\n",
       "       PhysActivity  ...  AnyHealthcare   NoDocbcCost       GenHlth  \\\n",
       "count  47276.000000  ...   47276.000000  47276.000000  47276.000000   \n",
       "mean       0.781284  ...       0.962899      0.062696      2.473560   \n",
       "std        0.413380  ...       0.189012      0.242417      1.027017   \n",
       "min        0.000000  ...       0.000000      0.000000      1.000000   \n",
       "25%        1.000000  ...       1.000000      0.000000      2.000000   \n",
       "50%        1.000000  ...       1.000000      0.000000      2.000000   \n",
       "75%        1.000000  ...       1.000000      0.000000      3.000000   \n",
       "max        1.000000  ...       1.000000      1.000000      5.000000   \n",
       "\n",
       "           MentHlth      PhysHlth      DiffWalk           Sex           Age  \\\n",
       "count  47276.000000  47276.000000  47276.000000  47276.000000  47276.000000   \n",
       "mean       3.929245      3.761126      0.152720      0.476986      7.887829   \n",
       "std        7.861948      8.239428      0.359721      0.499475      3.227736   \n",
       "min        0.000000      0.000000      0.000000      0.000000      1.000000   \n",
       "25%        0.000000      0.000000      0.000000      0.000000      5.000000   \n",
       "50%        0.000000      0.000000      0.000000      0.000000      8.000000   \n",
       "75%        4.000000      2.000000      0.000000      1.000000     10.000000   \n",
       "max       30.000000     30.000000      1.000000      1.000000     13.000000   \n",
       "\n",
       "          Education        Income  \n",
       "count  47276.000000  47276.000000  \n",
       "mean       5.142482      6.931191  \n",
       "std        0.945945      2.376979  \n",
       "min        1.000000      1.000000  \n",
       "25%        4.000000      5.000000  \n",
       "50%        5.000000      7.000000  \n",
       "75%        6.000000      9.000000  \n",
       "max        6.000000     11.000000  \n",
       "\n",
       "[8 rows x 23 columns]"
      ]
     },
     "execution_count": 2,
     "metadata": {},
     "output_type": "execute_result"
    }
   ],
   "source": [
    "# Import data\n",
    "data = pd.read_csv('C:/Users/MLDS/Desktop/examen/projet-git/data/data train_diabetes_health_indicators.csv')\n",
    "data['Diabetes_012'] = data['Diabetes_012'].astype(int)\n",
    "X = data.drop(columns=['Diabetes_012'])\n",
    "y = data['Diabetes_012']\n",
    "# Split data into train and test\n",
    "X_train, X_test, y_train, y_test = train_test_split(X, y, test_size=0.2, random_state=42)\n",
    "data.head()\n",
    "print(data.shape)\n",
    "data.describe()"
   ]
  },
  {
   "cell_type": "code",
   "execution_count": 3,
   "metadata": {},
   "outputs": [
    {
     "name": "stdout",
     "output_type": "stream",
     "text": [
      "Données manquantes par colonne :\n",
      " Unnamed: 0              0\n",
      "Diabetes_012            0\n",
      "HighBP                  0\n",
      "HighChol                0\n",
      "CholCheck               0\n",
      "BMI                     0\n",
      "Smoker                  0\n",
      "Stroke                  0\n",
      "HeartDiseaseorAttack    0\n",
      "PhysActivity            0\n",
      "Fruits                  0\n",
      "Veggies                 0\n",
      "HvyAlcoholConsump       0\n",
      "AnyHealthcare           0\n",
      "NoDocbcCost             0\n",
      "GenHlth                 0\n",
      "MentHlth                0\n",
      "PhysHlth                0\n",
      "DiffWalk                0\n",
      "Sex                     0\n",
      "Age                     0\n",
      "Education               0\n",
      "Income                  0\n",
      "dtype: int64\n",
      "Nombre de lignes en double :\n",
      " 0\n",
      "Nombre de classes dans 'Diabetes_012' :\n",
      " 0    39508\n",
      "2     6689\n",
      "1     1079\n",
      "Name: Diabetes_012, dtype: int64\n"
     ]
    }
   ],
   "source": [
    "# Vérification des données manquantes\n",
    "missing_values = data.isnull().sum()\n",
    "print(\"Données manquantes par colonne :\\n\", missing_values)\n",
    "\n",
    "# Identification des doublons\n",
    "duplicate_rows = data[data.duplicated()]\n",
    "print(\"Nombre de lignes en double :\\n\", len(duplicate_rows))\n",
    "\n",
    "# Vérification du nombre de classes (exemple avec la variable 'Diabetes_012')\n",
    "classes_count = data['Diabetes_012'].value_counts()\n",
    "print(\"Nombre de classes dans 'Diabetes_012' :\\n\", classes_count)"
   ]
  },
  {
   "cell_type": "code",
   "execution_count": 4,
   "metadata": {},
   "outputs": [
    {
     "data": {
      "image/png": "[encoded data removed]",
      "text/plain": [
       "<Figure size 432x288 with 1 Axes>"
      ]
     },
     "metadata": {
      "needs_background": "light"
     },
     "output_type": "display_data"
    },
    {
     "name": "stdout",
     "output_type": "stream",
     "text": [
      "0    83.568830\n",
      "2    14.148828\n",
      "1     2.282342\n",
      "Name: Diabetes_012, dtype: float64\n"
     ]
    }
   ],
   "source": [
    "# Analyse de la variable cible\n",
    "plt.figure(figsize=(6, 4))\n",
    "sns.countplot(x='Diabetes_012', data=data)\n",
    "plt.title('Distribution de Diabetes_012')\n",
    "plt.show()\n",
    "percentage_distribution = data['Diabetes_012'].value_counts(normalize=True) * 100\n",
    "print(percentage_distribution)"
   ]
  },
  {
   "cell_type": "code",
   "execution_count": 5,
   "metadata": {},
   "outputs": [
    {
     "data": {
      "image/png": "[encoded data removed]",
      "text/plain": [
       "<Figure size 576x576 with 1 Axes>"
      ]
     },
     "metadata": {},
     "output_type": "display_data"
    }
   ],
   "source": [
    "y =data['Diabetes_012']\n",
    "counts = y.value_counts()\n",
    "plt.figure(figsize=(8, 8))\n",
    "plt.pie(counts, labels=counts.index, autopct='%1.1f%%', startangle=90, colors=['#66b3ff', '#99ff99', '#ffcc99'])\n",
    "plt.title('Proportion des Classes')\n",
    "plt.show()"
   ]
  },
  {
   "cell_type": "code",
   "execution_count": 6,
   "metadata": {},
   "outputs": [],
   "source": [
    "data = data.drop(columns=['Unnamed: 0'])"
   ]
  },
  {
   "cell_type": "code",
   "execution_count": 7,
   "metadata": {},
   "outputs": [
    {
     "name": "stdout",
     "output_type": "stream",
     "text": [
      "Class distribution after applying SMOTE:\n",
      " 2    39508\n",
      "0    39508\n",
      "1    39508\n",
      "Name: Diabetes_012, dtype: int64\n"
     ]
    }
   ],
   "source": [
    "from imblearn.over_sampling import SMOTE\n",
    "import matplotlib.pyplot as plt\n",
    "\n",
    "# Separating the features and the target variable\n",
    "X = data.drop(['Diabetes_012'], axis=1)\n",
    "y = data['Diabetes_012']  # Correction ici\n",
    "\n",
    "# Apply SMOTE\n",
    "smote = SMOTE()\n",
    "X_smote, y_smote = smote.fit_resample(X, y)\n",
    "\n",
    "# Checking the class distribution after SMOTE\n",
    "print(\"Class distribution after applying SMOTE:\\n\", y_smote.value_counts())\n"
   ]
  },
  {
   "cell_type": "code",
   "execution_count": 8,
   "metadata": {},
   "outputs": [],
   "source": [
    "from sklearn.model_selection import train_test_split\n",
    "from sklearn.preprocessing import StandardScaler\n",
    "\n",
    "# Sélection des caractéristiques et de la variable cible\n",
    "X = data.drop(['Diabetes_012'], axis=1)\n",
    "y = data['Diabetes_012']  # Correction ici\n",
    "\n",
    "# Séparation en ensembles d'entraînement et de test\n",
    "X_train, X_test, y_train, y_test = train_test_split(X_smote, y_smote, test_size=0.2, random_state=42)  # Corrections ici\n",
    "\n",
    "# Normalisation des caractéristiques\n",
    "scaler = StandardScaler()\n",
    "X_train_scaled = scaler.fit_transform(X_train)\n",
    "X_test_scaled = scaler.transform(X_test) \n"
   ]
  },
  {
   "cell_type": "code",
   "execution_count": 9,
   "metadata": {},
   "outputs": [],
   "source": [
    "from sklearn.svm import LinearSVC\n",
    "from sklearn.metrics import classification_report, confusion_matrix\n",
    "\n",
    "# Création du modèle SVM\n",
    "svm_model = LinearSVC()"
   ]
  },
  {
   "cell_type": "code",
   "execution_count": 10,
   "metadata": {},
   "outputs": [
    {
     "name": "stderr",
     "output_type": "stream",
     "text": [
      "C:\\Users\\MLDS\\anaconda3\\lib\\site-packages\\sklearn\\svm\\_classes.py:32: FutureWarning: The default value of `dual` will change from `True` to `'auto'` in 1.5. Set the value of `dual` explicitly to suppress the warning.\n",
      "  warnings.warn(\n",
      "C:\\Users\\MLDS\\anaconda3\\lib\\site-packages\\sklearn\\svm\\_base.py:1250: ConvergenceWarning: Liblinear failed to converge, increase the number of iterations.\n",
      "  warnings.warn(\n"
     ]
    },
    {
     "data": {
      "text/html": [
       "<style>#sk-container-id-1 {color: black;}#sk-container-id-1 pre{padding: 0;}#sk-container-id-1 div.sk-toggleable {background-color: white;}#sk-container-id-1 label.sk-toggleable__label {cursor: pointer;display: block;width: 100%;margin-bottom: 0;padding: 0.3em;box-sizing: border-box;text-align: center;}#sk-container-id-1 label.sk-toggleable__label-arrow:before {content: \"▸\";float: left;margin-right: 0.25em;color: #696969;}#sk-container-id-1 label.sk-toggleable__label-arrow:hover:before {color: black;}#sk-container-id-1 div.sk-estimator:hover label.sk-toggleable__label-arrow:before {color: black;}#sk-container-id-1 div.sk-toggleable__content {max-height: 0;max-width: 0;overflow: hidden;text-align: left;background-color: #f0f8ff;}#sk-container-id-1 div.sk-toggleable__content pre {margin: 0.2em;color: black;border-radius: 0.25em;background-color: #f0f8ff;}#sk-container-id-1 input.sk-toggleable__control:checked~div.sk-toggleable__content {max-height: 200px;max-width: 100%;overflow: auto;}#sk-container-id-1 input.sk-toggleable__control:checked~label.sk-toggleable__label-arrow:before {content: \"▾\";}#sk-container-id-1 div.sk-estimator input.sk-toggleable__control:checked~label.sk-toggleable__label {background-color: #d4ebff;}#sk-container-id-1 div.sk-label input.sk-toggleable__control:checked~label.sk-toggleable__label {background-color: #d4ebff;}#sk-container-id-1 input.sk-hidden--visually {border: 0;clip: rect(1px 1px 1px 1px);clip: rect(1px, 1px, 1px, 1px);height: 1px;margin: -1px;overflow: hidden;padding: 0;position: absolute;width: 1px;}#sk-container-id-1 div.sk-estimator {font-family: monospace;background-color: #f0f8ff;border: 1px dotted black;border-radius: 0.25em;box-sizing: border-box;margin-bottom: 0.5em;}#sk-container-id-1 div.sk-estimator:hover {background-color: #d4ebff;}#sk-container-id-1 div.sk-parallel-item::after {content: \"\";width: 100%;border-bottom: 1px solid gray;flex-grow: 1;}#sk-container-id-1 div.sk-label:hover label.sk-toggleable__label {background-color: #d4ebff;}#sk-container-id-1 div.sk-serial::before {content: \"\";position: absolute;border-left: 1px solid gray;box-sizing: border-box;top: 0;bottom: 0;left: 50%;z-index: 0;}#sk-container-id-1 div.sk-serial {display: flex;flex-direction: column;align-items: center;background-color: white;padding-right: 0.2em;padding-left: 0.2em;position: relative;}#sk-container-id-1 div.sk-item {position: relative;z-index: 1;}#sk-container-id-1 div.sk-parallel {display: flex;align-items: stretch;justify-content: center;background-color: white;position: relative;}#sk-container-id-1 div.sk-item::before, #sk-container-id-1 div.sk-parallel-item::before {content: \"\";position: absolute;border-left: 1px solid gray;box-sizing: border-box;top: 0;bottom: 0;left: 50%;z-index: -1;}#sk-container-id-1 div.sk-parallel-item {display: flex;flex-direction: column;z-index: 1;position: relative;background-color: white;}#sk-container-id-1 div.sk-parallel-item:first-child::after {align-self: flex-end;width: 50%;}#sk-container-id-1 div.sk-parallel-item:last-child::after {align-self: flex-start;width: 50%;}#sk-container-id-1 div.sk-parallel-item:only-child::after {width: 0;}#sk-container-id-1 div.sk-dashed-wrapped {border: 1px dashed gray;margin: 0 0.4em 0.5em 0.4em;box-sizing: border-box;padding-bottom: 0.4em;background-color: white;}#sk-container-id-1 div.sk-label label {font-family: monospace;font-weight: bold;display: inline-block;line-height: 1.2em;}#sk-container-id-1 div.sk-label-container {text-align: center;}#sk-container-id-1 div.sk-container {/* jupyter's `normalize.less` sets `[hidden] { display: none; }` but bootstrap.min.css set `[hidden] { display: none !important; }` so we also need the `!important` here to be able to override the default hidden behavior on the sphinx rendered scikit-learn.org. See: https://github.com/scikit-learn/scikit-learn/issues/21755 */display: inline-block !important;position: relative;}#sk-container-id-1 div.sk-text-repr-fallback {display: none;}</style><div id=\"sk-container-id-1\" class=\"sk-top-container\"><div class=\"sk-text-repr-fallback\"><pre>LinearSVC()</pre><b>In a Jupyter environment, please rerun this cell to show the HTML representation or trust the notebook. <br />On GitHub, the HTML representation is unable to render, please try loading this page with nbviewer.org.</b></div><div class=\"sk-container\" hidden><div class=\"sk-item\"><div class=\"sk-estimator sk-toggleable\"><input class=\"sk-toggleable__control sk-hidden--visually\" id=\"sk-estimator-id-1\" type=\"checkbox\" checked><label for=\"sk-estimator-id-1\" class=\"sk-toggleable__label sk-toggleable__label-arrow\">LinearSVC</label><div class=\"sk-toggleable__content\"><pre>LinearSVC()</pre></div></div></div></div></div>"
      ],
      "text/plain": [
       "LinearSVC()"
      ]
     },
     "execution_count": 10,
     "metadata": {},
     "output_type": "execute_result"
    }
   ],
   "source": [
    "# Entraînement du modèle sur les données normalisées\n",
    "svm_model.fit(X_train_scaled, y_train)"
   ]
  },
  {
   "cell_type": "code",
   "execution_count": 11,
   "metadata": {},
   "outputs": [],
   "source": [
    "#utilisation du modèle pour la prédiction\n",
    "y_pred = svm_model.predict(X_test_scaled)"
   ]
  },
  {
   "cell_type": "code",
   "execution_count": 12,
   "metadata": {},
   "outputs": [
    {
     "name": "stdout",
     "output_type": "stream",
     "text": [
      "              precision    recall  f1-score   support\n",
      "\n",
      "           0       0.60      0.68      0.64      8052\n",
      "           1       0.52      0.42      0.47      7921\n",
      "           2       0.53      0.57      0.55      7732\n",
      "\n",
      "    accuracy                           0.56     23705\n",
      "   macro avg       0.55      0.56      0.55     23705\n",
      "weighted avg       0.55      0.56      0.55     23705\n",
      "\n",
      "Matrice de confusion :\n",
      " [[5466 1187 1399]\n",
      " [2106 3346 2469]\n",
      " [1489 1871 4372]]\n"
     ]
    }
   ],
   "source": [
    "# Affichage du rapport de classification\n",
    "print(classification_report(y_test, y_pred))\n",
    "\n",
    "# Affichage de la matrice de confusion\n",
    "conf_matrix = confusion_matrix(y_test, y_pred)\n",
    "print(\"Matrice de confusion :\\n\", conf_matrix)"
   ]
  }
 ],
 "metadata": {
  "kernelspec": {
   "display_name": "Python 3 (ipykernel)",
   "language": "python",
   "name": "python3"
  },
  "language_info": {
   "codemirror_mode": {
    "name": "ipython",
    "version": 3
   },
   "file_extension": ".py",
   "mimetype": "text/x-python",
   "name": "python",
   "nbconvert_exporter": "python",
   "pygments_lexer": "ipython3",
   "version": "3.9.7"
  }
 },
 "nbformat": 4,
 "nbformat_minor": 2
}
